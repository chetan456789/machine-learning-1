{
 "cells": [
  {
   "cell_type": "code",
   "execution_count": 3,
   "id": "5bb8565b",
   "metadata": {},
   "outputs": [
    {
     "name": "stdout",
     "output_type": "stream",
     "text": [
      "<class 'numpy.ndarray'>\n"
     ]
    }
   ],
   "source": [
    "import numpy as np\n",
    "\n",
    "an_array = np.array([3,33,333])\n",
    "\n",
    "print(type(an_array))"
   ]
  },
  {
   "cell_type": "code",
   "execution_count": 4,
   "id": "c4316612",
   "metadata": {},
   "outputs": [
    {
     "data": {
      "text/plain": [
       "(2, 3)"
      ]
     },
     "execution_count": 4,
     "metadata": {},
     "output_type": "execute_result"
    }
   ],
   "source": [
    "an_array2 = np.array([[3,33,333],[4,44,444]])\n",
    "an_array2.shape"
   ]
  },
  {
   "cell_type": "code",
   "execution_count": 5,
   "id": "7b37b291",
   "metadata": {},
   "outputs": [
    {
     "name": "stdout",
     "output_type": "stream",
     "text": [
      "3 33 333\n"
     ]
    }
   ],
   "source": [
    "print(an_array[0], an_array[1], an_array[2])"
   ]
  },
  {
   "cell_type": "code",
   "execution_count": 6,
   "id": "b348566b",
   "metadata": {},
   "outputs": [
    {
     "name": "stdout",
     "output_type": "stream",
     "text": [
      "(3,)\n"
     ]
    }
   ],
   "source": [
    "print(an_array.shape)"
   ]
  },
  {
   "cell_type": "code",
   "execution_count": 7,
   "id": "5ffdbad4",
   "metadata": {},
   "outputs": [
    {
     "name": "stdout",
     "output_type": "stream",
     "text": [
      "[888  33 333]\n"
     ]
    }
   ],
   "source": [
    "an_array[0] =888\n",
    "print(an_array)"
   ]
  },
  {
   "cell_type": "code",
   "execution_count": 8,
   "id": "4009d5de",
   "metadata": {},
   "outputs": [
    {
     "name": "stdout",
     "output_type": "stream",
     "text": [
      "[[11 12 13]\n",
      " [21 22 23]]\n",
      "the shape is 2 rows, 3 columns: (2, 3)\n",
      "accessing elements[0,0], [0,1], and [1,0] of the narray:  11 ,  12 ,  21\n"
     ]
    }
   ],
   "source": [
    "another = np.array([[11,12,13],[21,22,23]])\n",
    "print(another)\n",
    "print(\"the shape is 2 rows, 3 columns:\", another.shape)\n",
    "print(\"accessing elements[0,0], [0,1], and [1,0] of the narray: \", another[0,0], \", \",another[0,1], \", \",another[1,0])"
   ]
  },
  {
   "cell_type": "code",
   "execution_count": 9,
   "id": "1222fbac",
   "metadata": {},
   "outputs": [
    {
     "name": "stdout",
     "output_type": "stream",
     "text": [
      "[[0. 0.]\n",
      " [0. 0.]]\n"
     ]
    }
   ],
   "source": [
    "import numpy as np \n",
    "ex1 = np.zeros((2,2))\n",
    "print(ex1)"
   ]
  },
  {
   "cell_type": "code",
   "execution_count": 10,
   "id": "193d6fbd",
   "metadata": {},
   "outputs": [
    {
     "name": "stdout",
     "output_type": "stream",
     "text": [
      "[[9. 9. 9.]\n",
      " [9. 9. 9.]\n",
      " [9. 9. 9.]]\n"
     ]
    }
   ],
   "source": [
    "ex2 = np.full((3,3), 9.0)\n",
    "print(ex2)"
   ]
  },
  {
   "cell_type": "code",
   "execution_count": 11,
   "id": "cc63966b",
   "metadata": {},
   "outputs": [
    {
     "name": "stdout",
     "output_type": "stream",
     "text": [
      "[[1. 0. 0. 0. 0.]\n",
      " [0. 1. 0. 0. 0.]\n",
      " [0. 0. 1. 0. 0.]\n",
      " [0. 0. 0. 1. 0.]\n",
      " [0. 0. 0. 0. 1.]]\n"
     ]
    }
   ],
   "source": [
    "ex3 = np.eye(5,5)\n",
    "print(ex3)"
   ]
  },
  {
   "cell_type": "code",
   "execution_count": 12,
   "id": "3debbd9d",
   "metadata": {},
   "outputs": [
    {
     "name": "stdout",
     "output_type": "stream",
     "text": [
      "[[1. 1.]\n",
      " [1. 1.]]\n"
     ]
    }
   ],
   "source": [
    "ex4 = np.ones((2,2))\n",
    "print(ex4)"
   ]
  },
  {
   "cell_type": "code",
   "execution_count": 13,
   "id": "0c166c9b",
   "metadata": {},
   "outputs": [
    {
     "name": "stdout",
     "output_type": "stream",
     "text": [
      "(2, 2)\n",
      "\n",
      "1.0\n"
     ]
    }
   ],
   "source": [
    "print(ex4.shape)\n",
    "\n",
    "print()\n",
    "print(ex4[0,0])"
   ]
  },
  {
   "cell_type": "code",
   "execution_count": 14,
   "id": "50e9d5f7",
   "metadata": {},
   "outputs": [
    {
     "name": "stdout",
     "output_type": "stream",
     "text": [
      "[[0.41946244 0.66875703]\n",
      " [0.86346471 0.45274808]]\n"
     ]
    }
   ],
   "source": [
    "ex5 = np.random.random((2,2))\n",
    "print(ex5)"
   ]
  },
  {
   "cell_type": "code",
   "execution_count": 15,
   "id": "c08cc343",
   "metadata": {},
   "outputs": [
    {
     "name": "stdout",
     "output_type": "stream",
     "text": [
      "[[11 12 13 14]\n",
      " [21 22 23 24]\n",
      " [31 32 33 34]]\n"
     ]
    }
   ],
   "source": [
    "import numpy as np\n",
    "an_array = np.array([[11,12,13,14], [21,22,23,24], [31,32,33,34]])\n",
    "print(an_array)"
   ]
  },
  {
   "cell_type": "code",
   "execution_count": 16,
   "id": "7f0f9587",
   "metadata": {},
   "outputs": [
    {
     "name": "stdout",
     "output_type": "stream",
     "text": [
      "[[12 13]\n",
      " [22 23]]\n"
     ]
    }
   ],
   "source": [
    "a_slice = an_array[0:2, 1:3]\n",
    "print(a_slice)"
   ]
  },
  {
   "cell_type": "code",
   "execution_count": 17,
   "id": "796f886e",
   "metadata": {},
   "outputs": [
    {
     "name": "stdout",
     "output_type": "stream",
     "text": [
      "Before: 12\n",
      "After: 1000\n",
      "[[  11 1000   13   14]\n",
      " [  21   22   23   24]\n",
      " [  31   32   33   34]]\n"
     ]
    }
   ],
   "source": [
    "print(\"Before:\", an_array[0,1])\n",
    "a_slice[0, 0] = 1000\n",
    "print(\"After:\",an_array[0,1])\n",
    "print(an_array)"
   ]
  },
  {
   "cell_type": "code",
   "execution_count": 18,
   "id": "1250f00f",
   "metadata": {},
   "outputs": [
    {
     "name": "stdout",
     "output_type": "stream",
     "text": [
      "[[11 12 13 14]\n",
      " [21 22 23 24]\n",
      " [31 32 33 34]]\n"
     ]
    }
   ],
   "source": [
    "an_array = np.array([[11,12,13,14], [21,22,23,24], [31,32,33,34]])\n",
    "print(an_array)"
   ]
  },
  {
   "cell_type": "code",
   "execution_count": 19,
   "id": "dcd73a52",
   "metadata": {},
   "outputs": [
    {
     "name": "stdout",
     "output_type": "stream",
     "text": [
      "[21 22 23 24] (4,)\n"
     ]
    }
   ],
   "source": [
    "row_rank1 = an_array[1, :]\n",
    "print(row_rank1, row_rank1.shape)"
   ]
  },
  {
   "cell_type": "code",
   "execution_count": 20,
   "id": "05279f17",
   "metadata": {},
   "outputs": [
    {
     "name": "stdout",
     "output_type": "stream",
     "text": [
      "[[21 22 23 24]] (1, 4)\n"
     ]
    }
   ],
   "source": [
    "row_rank2 = an_array[1:2, :]\n",
    "print(row_rank2, row_rank2.shape)"
   ]
  },
  {
   "cell_type": "code",
   "execution_count": 21,
   "id": "14f0aff1",
   "metadata": {},
   "outputs": [
    {
     "name": "stdout",
     "output_type": "stream",
     "text": [
      "\n",
      "[12 22 32] (3,)\n",
      "\n",
      "[[12]\n",
      " [22]\n",
      " [32]] (3, 1)\n"
     ]
    }
   ],
   "source": [
    "print()\n",
    "col_rank1 = an_array[:, 1]\n",
    "col_rank2 = an_array[:, 1:2]\n",
    "\n",
    "print(col_rank1, col_rank1.shape)\n",
    "print()\n",
    "print(col_rank2, col_rank2.shape)"
   ]
  },
  {
   "cell_type": "code",
   "execution_count": 22,
   "id": "74973c76",
   "metadata": {},
   "outputs": [
    {
     "name": "stdout",
     "output_type": "stream",
     "text": [
      "original array:\n",
      "[[11 12 13]\n",
      " [21 22 23]\n",
      " [31 32 33]\n",
      " [41 42 43]]\n"
     ]
    }
   ],
   "source": [
    "an_array = np.array([[11,12,13], [21,22,23], [31,32,33], [41,42,43]])\n",
    "print('original array:')\n",
    "print(an_array)\n"
   ]
  },
  {
   "cell_type": "code",
   "execution_count": 23,
   "id": "1a776e64",
   "metadata": {},
   "outputs": [
    {
     "name": "stdout",
     "output_type": "stream",
     "text": [
      "\n",
      "Col indices picked :  [0 1 2 0]\n",
      "\n",
      "Rows indices picked :  [0 1 2 3]\n"
     ]
    }
   ],
   "source": [
    "col_indices = np.array([0, 1, 2, 0])\n",
    "print('\\nCol indices picked : ', col_indices)\n",
    "\n",
    "row_indices = np.arange(4)\n",
    "print('\\nRows indices picked : ', row_indices)"
   ]
  },
  {
   "cell_type": "code",
   "execution_count": 24,
   "id": "e02c420f",
   "metadata": {},
   "outputs": [
    {
     "name": "stdout",
     "output_type": "stream",
     "text": [
      "0 ,  0\n",
      "1 ,  1\n",
      "2 ,  2\n",
      "3 ,  0\n"
     ]
    },
    {
     "data": {
      "text/plain": [
       "\"'for i in row_indices:\\n      for j in col_indices:\""
      ]
     },
     "execution_count": 24,
     "metadata": {},
     "output_type": "execute_result"
    }
   ],
   "source": [
    "for i,j in zip(row_indices,col_indices):\n",
    "    print(i,\", \",j)\n",
    "''''for i in row_indices:\n",
    "      for j in col_indices:'''"
   ]
  },
  {
   "cell_type": "code",
   "execution_count": 25,
   "id": "50befe18",
   "metadata": {},
   "outputs": [
    {
     "name": "stdout",
     "output_type": "stream",
     "text": [
      "value in the array at those indices:  [11 22 33 41]\n"
     ]
    }
   ],
   "source": [
    "print('value in the array at those indices: ',an_array[row_indices,col_indices])"
   ]
  },
  {
   "cell_type": "code",
   "execution_count": 26,
   "id": "06810b3c",
   "metadata": {},
   "outputs": [
    {
     "name": "stdout",
     "output_type": "stream",
     "text": [
      "\n",
      "Changed Array:\n",
      "[[100011     12     13]\n",
      " [    21 100022     23]\n",
      " [    31     32 100033]\n",
      " [100041     42     43]]\n"
     ]
    }
   ],
   "source": [
    "an_array[row_indices, col_indices] += 100000\n",
    "\n",
    "print('\\nChanged Array:')\n",
    "print(an_array)"
   ]
  },
  {
   "cell_type": "code",
   "execution_count": 27,
   "id": "bbadcc0f",
   "metadata": {},
   "outputs": [
    {
     "name": "stdout",
     "output_type": "stream",
     "text": [
      "[[11 12]\n",
      " [21 22]\n",
      " [31 32]]\n"
     ]
    }
   ],
   "source": [
    "an_array = np.array([[11,12],[21,22],[31,32]])\n",
    "print(an_array)"
   ]
  },
  {
   "cell_type": "code",
   "execution_count": 28,
   "id": "a9c708a6",
   "metadata": {},
   "outputs": [
    {
     "data": {
      "text/plain": [
       "array([[False, False],\n",
       "       [ True,  True],\n",
       "       [ True,  True]])"
      ]
     },
     "execution_count": 28,
     "metadata": {},
     "output_type": "execute_result"
    }
   ],
   "source": [
    "filter = (an_array > 15)\n",
    "filter"
   ]
  },
  {
   "cell_type": "code",
   "execution_count": 29,
   "id": "65767c84",
   "metadata": {},
   "outputs": [
    {
     "name": "stdout",
     "output_type": "stream",
     "text": [
      "[21 22 31 32]\n"
     ]
    }
   ],
   "source": [
    "print(an_array[filter])"
   ]
  },
  {
   "cell_type": "code",
   "execution_count": 30,
   "id": "0bf816ba",
   "metadata": {},
   "outputs": [
    {
     "data": {
      "text/plain": [
       "array([21, 22, 31, 32])"
      ]
     },
     "execution_count": 30,
     "metadata": {},
     "output_type": "execute_result"
    }
   ],
   "source": [
    "an_array[an_array > 15]"
   ]
  },
  {
   "cell_type": "code",
   "execution_count": 31,
   "id": "0e997b2b",
   "metadata": {},
   "outputs": [
    {
     "name": "stdout",
     "output_type": "stream",
     "text": [
      "[[ 11 112]\n",
      " [ 21 122]\n",
      " [ 31 132]]\n"
     ]
    }
   ],
   "source": [
    "an_array[an_array % 2 ==0] +=100\n",
    "print(an_array)"
   ]
  },
  {
   "cell_type": "code",
   "execution_count": 32,
   "id": "a6c05654",
   "metadata": {},
   "outputs": [
    {
     "name": "stdout",
     "output_type": "stream",
     "text": [
      "int32\n"
     ]
    }
   ],
   "source": [
    "ex1 = np.array([11,12])\n",
    "print(ex1.dtype)"
   ]
  },
  {
   "cell_type": "code",
   "execution_count": 33,
   "id": "4d960f36",
   "metadata": {},
   "outputs": [
    {
     "name": "stdout",
     "output_type": "stream",
     "text": [
      "float64\n"
     ]
    }
   ],
   "source": [
    "ex2 = np.array([11.0,12.0])\n",
    "print(ex2.dtype)"
   ]
  },
  {
   "cell_type": "code",
   "execution_count": 34,
   "id": "6ad10f00",
   "metadata": {},
   "outputs": [
    {
     "name": "stdout",
     "output_type": "stream",
     "text": [
      "int64\n"
     ]
    }
   ],
   "source": [
    "ex3 = np.array([11.1,12.7], dtype=np.int64)\n",
    "print(ex3.dtype)\n"
   ]
  },
  {
   "cell_type": "code",
   "execution_count": 35,
   "id": "0cd73d33",
   "metadata": {},
   "outputs": [
    {
     "name": "stdout",
     "output_type": "stream",
     "text": [
      "int64\n",
      "\n",
      "[11 12]\n"
     ]
    }
   ],
   "source": [
    "ex4 = np.array([11.1,12.7],dtype=np.int64)\n",
    "print(ex4.dtype)\n",
    "print()\n",
    "print(ex4)"
   ]
  },
  {
   "cell_type": "code",
   "execution_count": 36,
   "id": "f18dabc3",
   "metadata": {},
   "outputs": [
    {
     "name": "stdout",
     "output_type": "stream",
     "text": [
      "float64\n",
      "\n",
      "[11. 21.]\n"
     ]
    }
   ],
   "source": [
    "ex5 = np.array([11,21], dtype=np.float64)\n",
    "print(ex5.dtype)\n",
    "print()\n",
    "print(ex5)\n"
   ]
  },
  {
   "cell_type": "code",
   "execution_count": 37,
   "id": "9758a1ec",
   "metadata": {
    "scrolled": true
   },
   "outputs": [
    {
     "name": "stdout",
     "output_type": "stream",
     "text": [
      "[[111 112]\n",
      " [121 122]]\n",
      "\n",
      "[[211.1 212.1]\n",
      " [221.1 222.1]]\n"
     ]
    },
    {
     "name": "stderr",
     "output_type": "stream",
     "text": [
      "C:\\Users\\s.m.chishty\\AppData\\Local\\Temp\\ipykernel_6384\\184873835.py:2: DeprecationWarning: `np.int` is a deprecated alias for the builtin `int`. To silence this warning, use `int` by itself. Doing this will not modify any behavior and is safe. When replacing `np.int`, you may wish to use e.g. `np.int64` or `np.int32` to specify the precision. If you wish to review your current use, check the release note link for additional information.\n",
      "Deprecated in NumPy 1.20; for more details and guidance: https://numpy.org/devdocs/release/1.20.0-notes.html#deprecations\n",
      "  x = np.array([[111,112],[121,122]], dtype=np.int)\n"
     ]
    }
   ],
   "source": [
    "\n",
    "import numpy as np\n",
    "x = np.array([[111,112],[121,122]], dtype=np.int)\n",
    "y = np.array([[211.1,212.1],[221.1,222.1]], dtype=np.float64)\n",
    "\n",
    "print(x)\n",
    "print()\n",
    "print(y)"
   ]
  },
  {
   "cell_type": "code",
   "execution_count": 38,
   "id": "9503fb80",
   "metadata": {},
   "outputs": [
    {
     "name": "stdout",
     "output_type": "stream",
     "text": [
      "[[322.1 324.1]\n",
      " [342.1 344.1]]\n",
      "\n",
      "[[322.1 324.1]\n",
      " [342.1 344.1]]\n"
     ]
    }
   ],
   "source": [
    "print(x + y)\n",
    "print()\n",
    "print(np.add(x,y))"
   ]
  },
  {
   "cell_type": "code",
   "execution_count": 39,
   "id": "191fb51f",
   "metadata": {},
   "outputs": [
    {
     "name": "stdout",
     "output_type": "stream",
     "text": [
      "[[23432.1 23755.2]\n",
      " [26753.1 27096.2]]\n",
      "\n",
      "[[322.1 324.1]\n",
      " [342.1 344.1]]\n"
     ]
    }
   ],
   "source": [
    "print(x * y)\n",
    "print()\n",
    "print(np.add(x,y))"
   ]
  },
  {
   "cell_type": "code",
   "execution_count": 40,
   "id": "85476deb",
   "metadata": {},
   "outputs": [
    {
     "name": "stdout",
     "output_type": "stream",
     "text": [
      "[[-100.1 -100.1]\n",
      " [-100.1 -100.1]]\n",
      "\n",
      "[[-100.1 -100.1]\n",
      " [-100.1 -100.1]]\n"
     ]
    }
   ],
   "source": [
    "print(x - y)\n",
    "print()\n",
    "print(np.subtract(x,y))"
   ]
  },
  {
   "cell_type": "code",
   "execution_count": 41,
   "id": "e6d1b5b7",
   "metadata": {},
   "outputs": [
    {
     "name": "stdout",
     "output_type": "stream",
     "text": [
      "[[0.52581715 0.52805281]\n",
      " [0.54726368 0.54930212]]\n",
      "\n",
      "[[0.52581715 0.52805281]\n",
      " [0.54726368 0.54930212]]\n"
     ]
    }
   ],
   "source": [
    "print(x / y)\n",
    "print()\n",
    "print(np.divide(x,y))"
   ]
  },
  {
   "cell_type": "code",
   "execution_count": 42,
   "id": "ddeac1af",
   "metadata": {},
   "outputs": [
    {
     "name": "stdout",
     "output_type": "stream",
     "text": [
      "[[10.53565375 10.58300524]\n",
      " [11.         11.04536102]]\n"
     ]
    }
   ],
   "source": [
    "print(np.sqrt(x))"
   ]
  },
  {
   "cell_type": "code",
   "execution_count": 43,
   "id": "0b54084c",
   "metadata": {},
   "outputs": [
    {
     "name": "stdout",
     "output_type": "stream",
     "text": [
      "[[1.60948707e+48 4.37503945e+48]\n",
      " [3.54513118e+52 9.63666567e+52]]\n"
     ]
    }
   ],
   "source": [
    "print(np.exp(x))"
   ]
  },
  {
   "cell_type": "code",
   "execution_count": 44,
   "id": "e2f704d7",
   "metadata": {},
   "outputs": [
    {
     "name": "stdout",
     "output_type": "stream",
     "text": [
      "[[-10.73846298  25.5844777    6.86533944   2.1477257  -13.21822601]\n",
      " [ -8.14601487  -7.0098136   -0.11337704  -9.23580965  -0.88997183]]\n"
     ]
    }
   ],
   "source": [
    "arr = 10 * np.random.randn(2,5)\n",
    "print(arr)"
   ]
  },
  {
   "cell_type": "code",
   "execution_count": 45,
   "id": "1925039c",
   "metadata": {},
   "outputs": [
    {
     "name": "stdout",
     "output_type": "stream",
     "text": [
      "-1.4754133136265373\n"
     ]
    }
   ],
   "source": [
    "print(arr.mean())"
   ]
  },
  {
   "cell_type": "code",
   "execution_count": 46,
   "id": "c8887445",
   "metadata": {},
   "outputs": [
    {
     "name": "stdout",
     "output_type": "stream",
     "text": [
      "[ 2.12817077 -5.0789974 ]\n"
     ]
    }
   ],
   "source": [
    "print(arr.mean(axis = 1))"
   ]
  },
  {
   "cell_type": "code",
   "execution_count": 47,
   "id": "4bff3278",
   "metadata": {},
   "outputs": [
    {
     "name": "stdout",
     "output_type": "stream",
     "text": [
      "[-9.44223893  9.28733205  3.3759812  -3.54404197 -7.05409892]\n"
     ]
    }
   ],
   "source": [
    "print(arr.mean(axis = 0))"
   ]
  },
  {
   "cell_type": "code",
   "execution_count": 48,
   "id": "ed682b0b",
   "metadata": {},
   "outputs": [
    {
     "name": "stdout",
     "output_type": "stream",
     "text": [
      "-14.754133136265372\n"
     ]
    }
   ],
   "source": [
    "print(arr.sum())"
   ]
  },
  {
   "cell_type": "code",
   "execution_count": 49,
   "id": "6bddb4f7",
   "metadata": {},
   "outputs": [
    {
     "name": "stdout",
     "output_type": "stream",
     "text": [
      "[ 2.1477257 -7.0098136]\n"
     ]
    }
   ],
   "source": [
    "print(np.median(arr, axis = 1))"
   ]
  },
  {
   "cell_type": "code",
   "execution_count": 50,
   "id": "daee8c80",
   "metadata": {},
   "outputs": [
    {
     "name": "stdout",
     "output_type": "stream",
     "text": [
      "[-0.40627442  0.10045346 -0.69526578 -0.7607846  -0.11143089 -0.56520764\n",
      " -0.63096333  0.11266047  0.44487464 -1.56548531]\n"
     ]
    }
   ],
   "source": [
    "unsorted = np.random.randn(10)\n",
    "print(unsorted)"
   ]
  },
  {
   "cell_type": "code",
   "execution_count": 51,
   "id": "d2bf3e30",
   "metadata": {},
   "outputs": [
    {
     "name": "stdout",
     "output_type": "stream",
     "text": [
      "[-1.56548531 -0.7607846  -0.69526578 -0.63096333 -0.56520764 -0.40627442\n",
      " -0.11143089  0.10045346  0.11266047  0.44487464]\n",
      "\n",
      "[-0.40627442  0.10045346 -0.69526578 -0.7607846  -0.11143089 -0.56520764\n",
      " -0.63096333  0.11266047  0.44487464 -1.56548531]\n"
     ]
    }
   ],
   "source": [
    "sorted = np.array(unsorted)\n",
    "sorted.sort()\n",
    "\n",
    "print(sorted)\n",
    "print()\n",
    "print(unsorted)"
   ]
  },
  {
   "cell_type": "code",
   "execution_count": 52,
   "id": "a475c240",
   "metadata": {},
   "outputs": [
    {
     "name": "stdout",
     "output_type": "stream",
     "text": [
      "[-1.56548531 -0.7607846  -0.69526578 -0.63096333 -0.56520764 -0.40627442\n",
      " -0.11143089  0.10045346  0.11266047  0.44487464]\n"
     ]
    }
   ],
   "source": [
    "unsorted.sort()\n",
    "print(unsorted)"
   ]
  },
  {
   "cell_type": "code",
   "execution_count": 53,
   "id": "af0b40b9",
   "metadata": {},
   "outputs": [
    {
     "name": "stdout",
     "output_type": "stream",
     "text": [
      "[1 2 4]\n"
     ]
    }
   ],
   "source": [
    "import numpy as np\n",
    "array = np.array([1,2,1,4,2,1,4,2])\n",
    "print(np.unique(array))"
   ]
  },
  {
   "cell_type": "code",
   "execution_count": 54,
   "id": "39682e2f",
   "metadata": {},
   "outputs": [
    {
     "name": "stdout",
     "output_type": "stream",
     "text": [
      "['desk' 'chair' 'bulb'] ['lamp' 'bulb' 'chair']\n"
     ]
    }
   ],
   "source": [
    "s1 = np.array(['desk','chair','bulb'])\n",
    "s2 = np.array(['lamp','bulb','chair'])\n",
    "print(s1, s2)"
   ]
  },
  {
   "cell_type": "code",
   "execution_count": 55,
   "id": "42c3d75e",
   "metadata": {},
   "outputs": [
    {
     "name": "stdout",
     "output_type": "stream",
     "text": [
      "['bulb' 'chair']\n"
     ]
    }
   ],
   "source": [
    "print( np.intersect1d(s1, s2) )"
   ]
  },
  {
   "cell_type": "code",
   "execution_count": 56,
   "id": "190128c0",
   "metadata": {},
   "outputs": [
    {
     "name": "stdout",
     "output_type": "stream",
     "text": [
      "['bulb' 'chair' 'desk' 'lamp']\n"
     ]
    }
   ],
   "source": [
    "print( np.union1d(s1,s2) )"
   ]
  },
  {
   "cell_type": "code",
   "execution_count": 57,
   "id": "0ced564b",
   "metadata": {},
   "outputs": [
    {
     "name": "stdout",
     "output_type": "stream",
     "text": [
      "['desk']\n"
     ]
    }
   ],
   "source": [
    "print( np.setdiff1d(s1,s2) )"
   ]
  },
  {
   "cell_type": "code",
   "execution_count": 58,
   "id": "43b19745",
   "metadata": {},
   "outputs": [
    {
     "name": "stdout",
     "output_type": "stream",
     "text": [
      "[False  True  True]\n"
     ]
    }
   ],
   "source": [
    "print( np.in1d(s1, s2))"
   ]
  },
  {
   "cell_type": "code",
   "execution_count": 59,
   "id": "cb6a12b1",
   "metadata": {},
   "outputs": [
    {
     "name": "stdout",
     "output_type": "stream",
     "text": [
      "[[0. 0. 0.]\n",
      " [0. 0. 0.]\n",
      " [0. 0. 0.]\n",
      " [0. 0. 0.]]\n"
     ]
    }
   ],
   "source": [
    "import numpy as np\n",
    "start = np.zeros((4,3))\n",
    "print(start)"
   ]
  },
  {
   "cell_type": "code",
   "execution_count": 60,
   "id": "44ec3f6a",
   "metadata": {},
   "outputs": [
    {
     "name": "stdout",
     "output_type": "stream",
     "text": [
      "[1 0 2]\n"
     ]
    }
   ],
   "source": [
    "add_rows = np.array([1, 0, 2])\n",
    "print(add_rows)\n"
   ]
  },
  {
   "cell_type": "code",
   "execution_count": 61,
   "id": "fdcce0ff",
   "metadata": {},
   "outputs": [
    {
     "name": "stdout",
     "output_type": "stream",
     "text": [
      "[[1. 0. 2.]\n",
      " [1. 0. 2.]\n",
      " [1. 0. 2.]\n",
      " [1. 0. 2.]]\n"
     ]
    }
   ],
   "source": [
    "y=start + add_rows\n",
    "print(y)"
   ]
  },
  {
   "cell_type": "code",
   "execution_count": 62,
   "id": "5238d5e2",
   "metadata": {},
   "outputs": [
    {
     "name": "stdout",
     "output_type": "stream",
     "text": [
      "[[0 1 2 3]]\n",
      "[[0]\n",
      " [1]\n",
      " [2]\n",
      " [3]]\n"
     ]
    }
   ],
   "source": [
    "add_cols = np.array([[0, 1, 2, 3]])\n",
    "print(add_cols)\n",
    "add_cols = add_cols.T\n",
    "print(add_cols)"
   ]
  },
  {
   "cell_type": "code",
   "execution_count": 63,
   "id": "5c6c25e6",
   "metadata": {},
   "outputs": [
    {
     "name": "stdout",
     "output_type": "stream",
     "text": [
      "[[0. 0. 0.]\n",
      " [1. 1. 1.]\n",
      " [2. 2. 2.]\n",
      " [3. 3. 3.]]\n"
     ]
    }
   ],
   "source": [
    "y = start + add_cols\n",
    "print(y)"
   ]
  },
  {
   "cell_type": "code",
   "execution_count": 64,
   "id": "0b4cdda9",
   "metadata": {},
   "outputs": [
    {
     "name": "stdout",
     "output_type": "stream",
     "text": [
      "[[1. 1. 1.]\n",
      " [1. 1. 1.]\n",
      " [1. 1. 1.]\n",
      " [1. 1. 1.]]\n"
     ]
    }
   ],
   "source": [
    "add_scalar = np.array([1])\n",
    "print(start+add_scalar)"
   ]
  },
  {
   "cell_type": "code",
   "execution_count": 65,
   "id": "f479cd45",
   "metadata": {},
   "outputs": [
    {
     "name": "stdout",
     "output_type": "stream",
     "text": [
      "[[ 1  2  3  4]\n",
      " [ 5  6  7  8]\n",
      " [ 9 10 11 12]]\n"
     ]
    }
   ],
   "source": [
    "arrA = np.array([[1, 2, 3, 4],[5, 6, 7, 8],[9, 10, 11, 12]])\n",
    "print(arrA)"
   ]
  },
  {
   "cell_type": "code",
   "execution_count": 66,
   "id": "b2a08f30",
   "metadata": {},
   "outputs": [
    {
     "name": "stdout",
     "output_type": "stream",
     "text": [
      "[0 1 0 2]\n"
     ]
    }
   ],
   "source": [
    "arrB = np.array([0, 1, 0, 2])\n",
    "print(arrB)"
   ]
  },
  {
   "cell_type": "code",
   "execution_count": 67,
   "id": "8f236ad4",
   "metadata": {},
   "outputs": [
    {
     "name": "stdout",
     "output_type": "stream",
     "text": [
      "[[ 1  3  3  6]\n",
      " [ 5  7  7 10]\n",
      " [ 9 11 11 14]]\n"
     ]
    }
   ],
   "source": [
    "print(arrA + arrB)"
   ]
  },
  {
   "cell_type": "code",
   "execution_count": 68,
   "id": "156cc48e",
   "metadata": {},
   "outputs": [],
   "source": [
    "import numpy as np\n",
    "x = np.array([23.23, 24.24])"
   ]
  },
  {
   "cell_type": "code",
   "execution_count": 69,
   "id": "864b3285",
   "metadata": {},
   "outputs": [],
   "source": [
    "np.save('an_array', x)"
   ]
  },
  {
   "cell_type": "code",
   "execution_count": 70,
   "id": "52bdb203",
   "metadata": {},
   "outputs": [
    {
     "data": {
      "text/plain": [
       "array([23.23, 24.24])"
      ]
     },
     "execution_count": 70,
     "metadata": {},
     "output_type": "execute_result"
    }
   ],
   "source": [
    "np.load('an_array.npy')"
   ]
  },
  {
   "cell_type": "code",
   "execution_count": 71,
   "id": "cfff4ec2",
   "metadata": {},
   "outputs": [],
   "source": [
    "np.savetxt('array.txt', X=x, delimiter=',' )"
   ]
  },
  {
   "cell_type": "code",
   "execution_count": 72,
   "id": "c4f5ce2a",
   "metadata": {},
   "outputs": [
    {
     "name": "stderr",
     "output_type": "stream",
     "text": [
      "'cat' is not recognized as an internal or external command,\n",
      "operable program or batch file.\n"
     ]
    }
   ],
   "source": [
    "!cat array.txt"
   ]
  },
  {
   "cell_type": "code",
   "execution_count": 73,
   "id": "91b97bc6",
   "metadata": {},
   "outputs": [
    {
     "data": {
      "text/plain": [
       "array([23.23, 24.24])"
      ]
     },
     "execution_count": 73,
     "metadata": {},
     "output_type": "execute_result"
    }
   ],
   "source": [
    "np.savetxt('array.txt', X=x, delimiter=',')\n",
    "np.loadtxt('array.txt',delimiter=',')"
   ]
  },
  {
   "cell_type": "code",
   "execution_count": 74,
   "id": "27abe3ea",
   "metadata": {},
   "outputs": [
    {
     "name": "stdout",
     "output_type": "stream",
     "text": [
      "[[1 1]\n",
      " [1 1]]\n",
      "\n",
      "[[2 2]\n",
      " [2 2]]\n",
      "\n",
      "[[4 4]\n",
      " [4 4]]\n",
      "\n",
      "[[4 4]\n",
      " [4 4]]\n"
     ]
    }
   ],
   "source": [
    "x2d = np.array([[1,1], [1,1]])\n",
    "y2d = np.array([[2,2], [2,2]])\n",
    "print(x2d)\n",
    "print()\n",
    "print(y2d)\n",
    "print()\n",
    "print(x2d.dot(y2d))\n",
    "print()\n",
    "print(np.dot(x2d, y2d))\n"
   ]
  },
  {
   "cell_type": "code",
   "execution_count": 75,
   "id": "fff54860",
   "metadata": {},
   "outputs": [
    {
     "name": "stdout",
     "output_type": "stream",
     "text": [
      "180\n",
      "\n",
      "180\n"
     ]
    }
   ],
   "source": [
    "a1d = np.array([9, 9])\n",
    "b1d = np.array([10, 10])\n",
    "\n",
    "print(a1d.dot(b1d))\n",
    "print()\n",
    "print(np.dot(a1d,b1d))"
   ]
  },
  {
   "cell_type": "code",
   "execution_count": 76,
   "id": "3d07c620",
   "metadata": {},
   "outputs": [
    {
     "name": "stdout",
     "output_type": "stream",
     "text": [
      "[18 18]\n",
      "\n",
      "[18 18]\n"
     ]
    }
   ],
   "source": [
    "print(x2d.dot(a1d))\n",
    "print()\n",
    "print(np.dot(x2d, a1d))"
   ]
  },
  {
   "cell_type": "code",
   "execution_count": 79,
   "id": "fa6d7f39",
   "metadata": {},
   "outputs": [
    {
     "name": "stdout",
     "output_type": "stream",
     "text": [
      "66\n"
     ]
    }
   ],
   "source": [
    "ex1 = np.array([[11,12],[21,22]])\n",
    "\n",
    "print(np.sum(ex1))"
   ]
  },
  {
   "cell_type": "code",
   "execution_count": 80,
   "id": "af24a2df",
   "metadata": {},
   "outputs": [
    {
     "name": "stdout",
     "output_type": "stream",
     "text": [
      "[32 34]\n"
     ]
    }
   ],
   "source": [
    "print(np.sum(ex1, axis=0))"
   ]
  },
  {
   "cell_type": "code",
   "execution_count": 81,
   "id": "18c1bc8a",
   "metadata": {},
   "outputs": [
    {
     "name": "stdout",
     "output_type": "stream",
     "text": [
      "[23 43]\n"
     ]
    }
   ],
   "source": [
    "print(np.sum(ex1, axis=1))"
   ]
  },
  {
   "cell_type": "code",
   "execution_count": 82,
   "id": "e8eca6bd",
   "metadata": {},
   "outputs": [
    {
     "data": {
      "text/plain": [
       "array([ 0.27183381,  0.87486005, -0.69350988,  0.84607096, -0.51596101,\n",
       "        0.52268979, -0.01497822,  0.88991433])"
      ]
     },
     "execution_count": 82,
     "metadata": {},
     "output_type": "execute_result"
    }
   ],
   "source": [
    "x = np.random.randn(8)\n",
    "x"
   ]
  },
  {
   "cell_type": "code",
   "execution_count": 84,
   "id": "302c3908",
   "metadata": {},
   "outputs": [
    {
     "data": {
      "text/plain": [
       "array([ 1.59760019,  0.69308994,  1.42912778,  0.53612824, -0.75636236,\n",
       "        1.21368506,  0.47790324, -0.58884569])"
      ]
     },
     "execution_count": 84,
     "metadata": {},
     "output_type": "execute_result"
    }
   ],
   "source": [
    "y = np.random.randn(8)\n",
    "y"
   ]
  },
  {
   "cell_type": "code",
   "execution_count": 85,
   "id": "af8705f3",
   "metadata": {},
   "outputs": [
    {
     "data": {
      "text/plain": [
       "array([[ 0.38022428,  0.90031284,  0.78469812],\n",
       "       [ 1.11994438,  1.47311694, -0.86009592]])"
      ]
     },
     "execution_count": 85,
     "metadata": {},
     "output_type": "execute_result"
    }
   ],
   "source": [
    "import numpy as np\n",
    "x = np.random.randn(2,3)\n",
    "y = np.random.randn(2,3)\n",
    "np.maximum(x,y)"
   ]
  },
  {
   "cell_type": "code",
   "execution_count": null,
   "id": "0d474f22",
   "metadata": {},
   "outputs": [],
   "source": []
  }
 ],
 "metadata": {
  "kernelspec": {
   "display_name": "Python 3 (ipykernel)",
   "language": "python",
   "name": "python3"
  },
  "language_info": {
   "codemirror_mode": {
    "name": "ipython",
    "version": 3
   },
   "file_extension": ".py",
   "mimetype": "text/x-python",
   "name": "python",
   "nbconvert_exporter": "python",
   "pygments_lexer": "ipython3",
   "version": "3.9.13"
  }
 },
 "nbformat": 4,
 "nbformat_minor": 5
}
